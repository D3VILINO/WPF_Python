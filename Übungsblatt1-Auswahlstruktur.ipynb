{
 "cells": [
  {
   "cell_type": "markdown",
   "id": "56427aac",
   "metadata": {},
   "source": [
    "#  Übungsblatt 01 -  Auswahlstruktur"
   ]
  },
  {
   "cell_type": "code",
   "execution_count": null,
   "id": "d16c6f6f",
   "metadata": {},
   "outputs": [],
   "source": []
  },
  {
   "cell_type": "markdown",
   "id": "414df4e3",
   "metadata": {},
   "source": [
    "### Aufgabe 1: Hardware-Großhändler  \n",
    "\n",
    "Ein Hardware-Großhändler möchte den Rechnungsbetrag einer Bestellung für PC-Mäuse mit einem Programm ermitteln. Wenn der Kunde mindestens 10 Mäuse bestellt, erfolgt die Lieferung frei Haus, bei einer geringeren Bestellmenge wird eine feste Lieferpauschale von 10 Euro erhoben. Vom Großhändler werden die Anzahl der bestellten Mäuse und der Einzelpreis eingegeben. Das Programm soll den Rechnungsbetrag (incl. MwSt.) ausgeben.\n"
   ]
  },
  {
   "cell_type": "code",
   "execution_count": 13,
   "id": "d57671eb",
   "metadata": {},
   "outputs": [
    {
     "name": "stdout",
     "output_type": "stream",
     "text": [
      "Der Rechenbetrag inkl. MwSt. beträgt 22.61\n"
     ]
    }
   ],
   "source": [
    "amount = int(input(\"Eingabe der Menge an Mäusen: \"))\n",
    "price = amount * float(input(f\"Eingabe des Einzelpreises der {'Mäuse' if amount > 1 else 'Maus'} in Euro: \"))\n",
    "\n",
    "if amount < 10:\n",
    "  price += 10\n",
    "\n",
    "price *= 1.19\n",
    "\n",
    "\n",
    "print(f\"Der Rechenbetrag inkl. MwSt. beträgt {price:.2f}\")\n"
   ]
  },
  {
   "cell_type": "markdown",
   "id": "63d76b50",
   "metadata": {},
   "source": [
    "### Aufgabe 2: Rabattsystem   \n",
    "\n",
    "Der Hardware-Großhändler führt ein Rabattsystem ein: Liegt der Bestellwert zwischen 0 und 100 €, erhält der Kunde einen Rabatt von 10 %. Liegt der Bestellwert höher, aber insgesamt nicht über 500 €, beträgt der Rabatt 15 %, in allen anderen Fällen beträgt der Rabatt 20 %. Nach Eingabe des Bestellwertes soll der ermäßigte Bestellwert (incl. MwSt.) berechnet und ausgegeben werden.\n"
   ]
  },
  {
   "cell_type": "code",
   "execution_count": 14,
   "id": "fd09a8f1",
   "metadata": {},
   "outputs": [
    {
     "name": "stdout",
     "output_type": "stream",
     "text": [
      "Der ermäßigte Bestellwert inkl. MwSt. beträgt 107.10\n"
     ]
    }
   ],
   "source": [
    "price = float(input(f\"Eingabe des Bestellpreises in Euro: \"))\n",
    "\n",
    "if price <= 100: \n",
    "  price *= .9\n",
    "elif price <= 500:\n",
    "  price *= .85\n",
    "else:\n",
    "  price *= .8\n",
    "\n",
    "price *= 1.19\n",
    "\n",
    "\n",
    "print(f\"Der ermäßigte Bestellwert inkl. MwSt. beträgt {price:.2f}\")\n"
   ]
  },
  {
   "cell_type": "markdown",
   "id": "efb609fe",
   "metadata": {},
   "source": [
    "### Aufgabe 3: BMI   \n",
    "\n",
    "BMI (Body Mass Index): Der BMI berechnet sich aus dem Körpergewicht [kg] dividiert durch das Quadrat der Körpergröße [m2]. \n",
    "Die Formel lautet: BMI = (Körpergewicht in kg): (Körpergröße in m)2. \n",
    "Dies bedeutet, eine Person mit einer Körpergröße von 160 cm und einem Körpergewicht von 60 kg hat einen BMI von 23,4 [60: 2,56 = 23,4]. Der BMI einer Person wird nach folgenden Regeln klassifiziert:  \n",
    "\n",
    "\n",
    "Klassifikation\tm\tw\n",
    "Untergewicht\t<20\t<19\n",
    "Normalgewicht\t20-25\t19-24\n",
    "Übergewicht\t>25\t>24\n",
    "\n",
    "Das Programm soll vom Benutzer das Gewicht [in kg] die Größe [in cm] und das Geschlecht [m/w] abfragen. Am Ende des Programms soll die BMI-Klassifikation der Person ausgegeben werden.\n",
    "\n"
   ]
  },
  {
   "cell_type": "code",
   "execution_count": 17,
   "id": "8c5b3a04",
   "metadata": {},
   "outputs": [
    {
     "name": "stdout",
     "output_type": "stream",
     "text": [
      "Dein BMI beträgt: 22.35\n",
      "Sie sind normalgewichtig\n"
     ]
    }
   ],
   "source": [
    "bmi = float(input(\"Gewicht in kg: \"))\n",
    "bmi /= (float(input(\"Körpergröße in cm: \")) / 100) ** 2\n",
    "sex = input(\"Geschlecht m/w: \").lower()\n",
    "\n",
    "sexBasedBorders = {\n",
    "    \"m\": {\"underweight\": 20, \"normal\": 25},\n",
    "    \"w\": {\"underweight\": 19, \"normal\": 24}\n",
    "}\n",
    "\n",
    "if sex in sexBasedBorders:\n",
    "    borders = sexBasedBorders[sex]\n",
    "    if bmi < borders[\"underweight\"]:\n",
    "        outClass = \"untergewichtig\"\n",
    "    elif bmi <= borders[\"normal\"]:\n",
    "        outClass = \"normalgewichtig\"\n",
    "    else:\n",
    "        outClass = \"übergewichtig\"\n",
    "else:\n",
    "    outClass = \"Bewertung nur bei biologisch m/w möglich\"\n",
    "\n",
    "print(f\"Dein BMI beträgt: {bmi:.2f}\")\n",
    "print(f\"Sie sind {outClass}\")"
   ]
  },
  {
   "cell_type": "markdown",
   "id": "43025f10",
   "metadata": {},
   "source": [
    "### Aufgabe 4: Sortieren    \n",
    "\n",
    "Erstellen Sie die Konsolenanwendung Sortiere_abc. Das Programm Sortiere_abc soll drei Zeicheneingaben (z. B. Buchstaben, Ziffern) vom Benutzer erwarten. Anschließend soll das Programm die drei eingegebenen Zeichen in aufsteigender Reihenfolge ausgeben. \n"
   ]
  },
  {
   "cell_type": "code",
   "execution_count": 30,
   "id": "765cd1f9",
   "metadata": {},
   "outputs": [
    {
     "name": "stdout",
     "output_type": "stream",
     "text": [
      "['8', 's', 'sdfg']\n"
     ]
    }
   ],
   "source": [
    "inputs = []\n",
    "for i in range(0, 3):\n",
    "  inputs.append(input(f\"Zahl eingeben [{i}/3]: \"))\n",
    "\n",
    "inputs.sort()\n",
    "print(inputs)\n",
    "\n"
   ]
  },
  {
   "cell_type": "markdown",
   "id": "71065cdb",
   "metadata": {},
   "source": [
    "### Aufgabe 5: Schaltjahr    \n",
    "\n",
    "Entwickeln Sie ein Programm, welches ausgibt, ob das eingegebene Jahr ein Schaltjahr ist. \n",
    "\n",
    "Regel 1: Ist eine Jahreszahl ganzzahlig durch 4 teilbar, dann ist das Jahr ein Schaltjahr mit 366 Tagen. \n",
    "Beispiele: 1980, 1972, 1720 waren Schaltjahre \n",
    "\n",
    "Regel 2: Ausnahme von Regel 1 sind alle Jahreszahlen, die nach Regel 1 ein Schaltjahr sind, aber deren Jahreszahl ganzzahlig durch 100 teilbar sind. \n",
    "Beispiele: 1700, 1800 und 1900 oder ferner 2100 sind keine Schaltjahre. \n",
    "\n",
    "Regel 3: Ausnahme von Regel 2 sind alle Jahreszahlen, die nach Regel 2 kein Schaltjahr sind, aber deren Jahreszahl ganzzahlig durch 400 teilbar. \n",
    "Beispiele: 1600 und 2000 waren Schaltjahre zu 366 Tagen. \n",
    "oder eine einfach zu merkende Regel: \n",
    "\n",
    "\n",
    "- Ein Schaltjahr ist alle vier Jahre (1992 und 1996 waren z.B. Schaltjahre), \n",
    "\n",
    "- alle hundert Jahre nicht (1700 und 1800 waren keine Schaltjahre), \n",
    "\n",
    "- und alle vierhundert Jahre doch (2000 war doch ein Schaltjahr), \n",
    "\n",
    "- Dummerweise wurde diese Regelung erst 1582 eingeführt, d.h. davor galt nur Regel1, \n",
    "\n",
    "- Eingeführt wurden Schaltjahre im heutigen Sinne durch Julius Cäsar 45 v. Chr. \n",
    "\n",
    "Das Programm soll vom Benutzer eine Jahreszahl abfragen. Am Ende des Programms soll ausgegeben werden, ob es sich um ein Schaltjahr handelt oder nicht.\n"
   ]
  },
  {
   "cell_type": "code",
   "execution_count": 46,
   "id": "fca2ec15",
   "metadata": {},
   "outputs": [
    {
     "name": "stdout",
     "output_type": "stream",
     "text": [
      "Das Jahr 35 v. Chr  ist Schaltjahr.\n"
     ]
    }
   ],
   "source": [
    "year = int(input(\"Jahr: \"))\n",
    "isLeapYear = False\n",
    "\n",
    "if year < -45: \n",
    "  print(\"vor 45 v. Chr. gab es keine Schaltjahre\")\n",
    "  exit(0)\n",
    "\n",
    "if year % 400 == 0 or year % 4 == 0 and year % 100 != 0: \n",
    "  isLeapYear = True\n",
    "\n",
    "print(f\"Das Jahr{year if year >= 0 else str(abs(year)) + ' v. Chr' } ist{' kein' if isLeapYear else ''} Schaltjahr.\")\n"
   ]
  }
 ],
 "metadata": {
  "kernelspec": {
   "display_name": "Python 3",
   "language": "python",
   "name": "python3"
  },
  "language_info": {
   "codemirror_mode": {
    "name": "ipython",
    "version": 3
   },
   "file_extension": ".py",
   "mimetype": "text/x-python",
   "name": "python",
   "nbconvert_exporter": "python",
   "pygments_lexer": "ipython3",
   "version": "3.12.6"
  }
 },
 "nbformat": 4,
 "nbformat_minor": 5
}
