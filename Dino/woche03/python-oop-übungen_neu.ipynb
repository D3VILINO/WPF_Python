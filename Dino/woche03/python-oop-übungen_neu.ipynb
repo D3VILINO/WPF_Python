{
 "cells": [
  {
   "cell_type": "markdown",
   "metadata": {},
   "source": [
    "# Aufgabe1 - Klasse Bruch\n",
    "#### Schreiben Sie eine Klasse Bruch, um positive Bruchzahlen zu repräsentieren. \n",
    "    (a) Programmieren Sie den Konstruktor, der einen positiven ganzzahligen Zähler und einen positiven ganzzahligen Nenner benötigt. \n",
    "    (b) Programmieren Sie eine String-Repräsentation von Bruch-Objekten, so dass Ausgaben entstehen wie z.B. 3/4.\n",
    "    (C) Implementieren Sie die Addition zweier Brüche.\n",
    "    (d) Implementieren Sie analog die Multiplikation.\n",
    "    (e) Programmieren Sie eine Methode addiereEins, die den Bruch um 1 erhöht.\n",
    "    (f) Programmieren Sie die Methode istNatuerlich, die testet, ob der Bruch eine natürliche Zahl ist.\n",
    "    (g) Programmieren Sie die Methode reziprok, die den Kehrwert des Bruches zurückliefert, den Bruch selbst aber unverändert lässt.\n",
    "    "
   ]
  },
  {
   "cell_type": "code",
   "execution_count": null,
   "metadata": {},
   "outputs": [],
   "source": [
    "class Bruch:\n",
    "    # (a)\n",
    "    def __init__(self, a: int, b: int):\n",
    "        if a > 0:\n",
    "            self.a = self.reduce(a,b)[0]\n",
    "        if b > 0:\n",
    "            self.b = self.reduce(a,b)[1]\n",
    "\n",
    "    # (b)\n",
    "    def __str__(self):\n",
    "        return str(self.a) + \"/\" + str(self.b)\n",
    "\n",
    "    # (c)\n",
    "    def reduce(self, numerator, denumerator):\n",
    "        lesserValue = min(numerator, denumerator)\n",
    "        greaterValue = max(numerator, denumerator)\n",
    "        for i in range(lesserValue, 0, -1):\n",
    "            if lesserValue % i == 0 and greaterValue % i == 0:\n",
    "                return numerator // i, denumerator // i\n",
    "        return numerator, denumerator\n",
    "\n",
    "    def add(self,other):\n",
    "        numerator = (self.a * other.b) + (other.a * self.b)\n",
    "        denumerator = (self.b * other.b)\n",
    "        reducedValues = self.reduce(numerator,denumerator)\n",
    "        numerator = reducedValues[0]\n",
    "        denumerator = reducedValues[1]\n",
    "        return str(numerator) + \"/\" + str(denumerator)\n",
    "\n",
    "    # (d)\n",
    "    def mult(self, other):\n",
    "        numerator = (self.a * other.a)\n",
    "        denumerator = (self.b * other.b)\n",
    "        reducedValues = self.reduce(numerator,denumerator)\n",
    "        numerator = reducedValues[0]\n",
    "        denumerator = reducedValues[1]\n",
    "        return str(numerator) + \"/\" + str(denumerator)\n",
    "\n",
    "    # (e)\n",
    "    def addOne(self):\n",
    "        numerator = self.a + self.b\n",
    "        denumerator = self.b\n",
    "        return str(numerator) + \"/\" + str(denumerator) # Bruch nach Initialisierung gekürzt -> Kürzung bei +1 nicht möglich\n",
    "\n",
    "    # (f)\n",
    "    def isNatural(self):\n",
    "        return self.b == 1 # Bruch nach Initialisierung gekürzt\n",
    "\n",
    "    def reziprok(self):\n",
    "        return str(self.b) + \"/\" + str(self.a)\n",
    "\n"
   ]
  },
  {
   "cell_type": "markdown",
   "metadata": {},
   "source": [
    "#### Testen Sie Ihre Klasse"
   ]
  },
  {
   "cell_type": "code",
   "execution_count": null,
   "metadata": {},
   "outputs": [
    {
     "name": "stdout",
     "output_type": "stream",
     "text": [
      "Bruch 1: 1/2\n",
      "Addition: Bruch1(1/2) + Bruch2(1/2) = 1/1\n",
      "Multiplikation: Bruch1(1/2) * Bruch2(1/2) = 1/4\n",
      "Addiere 1 zu Bruch1(1/2) = 3/2\n",
      "Bruch1 ist natürlich: False\n",
      "Bruch3 2/1 ist natürlich: True\n",
      "Das reziprok von Bruch3: 1/2\n"
     ]
    }
   ],
   "source": [
    "bruch1 = Bruch(1,2)\n",
    "bruch2 = Bruch(1,2)\n",
    "bruch3 = Bruch(4,2)\n",
    "\n",
    "print(\"Bruch 1: \" + str(bruch1))\n",
    "print(\"Addition: Bruch1(\" + str(bruch1) + \") + \" + \"Bruch2(\" + str(bruch2) + \") = \" + (bruch1.add(bruch2)))\n",
    "print(\"Multiplikation: Bruch1(\" + str(bruch1) + \") * \" + \"Bruch2(\" + str(bruch2) + \") = \" +bruch1.mult(bruch2))\n",
    "print(\"Addiere 1 zu Bruch1(\" + str(bruch1) + \") = \"+ bruch1.addOne())\n",
    "print(\"Bruch1 ist natürlich: \" + str(bruch1.isNatural()))\n",
    "print(\"Bruch3 \" + str(bruch1) + \" ist natürlich: \" + str(bruch3.isNatural()))\n",
    "print(\"Das reziprok von Bruch3: \" + bruch3.reziprok())"
   ]
  },
  {
   "cell_type": "markdown",
   "metadata": {},
   "source": [
    "# Aufgabe2 - Klasse Datum\n",
    "#### Schreiben Sie eine Klasse Datum für ein Kalenderdatum. Die Klasse soll folgende Bestandteile haben:\n",
    " \n",
    "    Attribute: Tag, Monat und Jahr (jeweils vom Typ int)\n",
    "    set-/get-Methoden für die Attribute\n",
    "    eine __init__-Methode, die alle Attribute mit den übergebenen Parametern initialisiert.\n",
    "\n",
    "#### Weiterhin sollen die  Methoden __str__(self) sowie __eq__(self, other) geeignet überschrieben werden\n",
    "\n",
    "#### Implementierung der Klasse \"Datum\":"
   ]
  },
  {
   "cell_type": "code",
   "execution_count": 1,
   "metadata": {},
   "outputs": [
    {
     "ename": "IndentationError",
     "evalue": "expected an indented block (249065929.py, line 2)",
     "output_type": "error",
     "traceback": [
      "\u001b[1;36m  Input \u001b[1;32mIn [1]\u001b[1;36m\u001b[0m\n\u001b[1;33m    #Ab hier sind Sie dran\u001b[0m\n\u001b[1;37m                          ^\u001b[0m\n\u001b[1;31mIndentationError\u001b[0m\u001b[1;31m:\u001b[0m expected an indented block\n"
     ]
    }
   ],
   "source": [
    "class Datum:\n",
    "    #Ab hier sind Sie dran"
   ]
  },
  {
   "cell_type": "markdown",
   "metadata": {},
   "source": [
    "#### Testen Sie Ihre Klasse"
   ]
  },
  {
   "cell_type": "code",
   "execution_count": null,
   "metadata": {},
   "outputs": [],
   "source": [
    "d = Datum(1,2,2000)\n",
    "d2 = Datum(1,2,2000)\n",
    "d3 = Datum(4,2,2000)\n",
    "print(d == d2)\n",
    "print(d3 == d2)\n",
    "\n",
    "print(d)\n"
   ]
  },
  {
   "cell_type": "code",
   "execution_count": null,
   "metadata": {},
   "outputs": [],
   "source": [
    "d = Datum(1,2,2000)\n",
    "d2 = Datum(1,2,2000)\n",
    "d3 = Datum(4,2,2000)\n",
    "print(d == d2)\n",
    "print(d3 == d2)\n",
    "\n",
    "print(d)\n"
   ]
  },
  {
   "cell_type": "markdown",
   "metadata": {},
   "source": [
    "# Aufgabe3 - Klasse Feiertag\n",
    "####  Schreiben Sie eine Unterklasse Feiertag der Klasse Datum  (Die Vereinbarung der Oberklasse Datum soll nicht verändert werden!). Diese Klasse soll neben den geerbten Attributen / Methoden der Oberklasse folgende Bestandteile haben:\n",
    "\n",
    "    ein zusätzliches Attribut zur Aufnahme des Namens des Feiertags\n",
    "    zusätzliche Methoden: get-/set-Methoden für das neue Attribut\n",
    "    eine __init__-Methode, die sämtliche Attribute der Klasse Feiertag initialisiert\n",
    "    die Methode __str__(self) der Oberklasse soll überschrieben werden\n",
    "    ein Feiertag soll in folgendem Format ausgegeben werden: 3.10.2022 Tag der Deutschen Einheit\n"
   ]
  },
  {
   "cell_type": "markdown",
   "metadata": {},
   "source": []
  },
  {
   "cell_type": "code",
   "execution_count": null,
   "metadata": {},
   "outputs": [],
   "source": [
    "#Ihre Lösung"
   ]
  },
  {
   "cell_type": "markdown",
   "metadata": {},
   "source": [
    "#### Testen Sie die neue Klasse \"Feiertag\":"
   ]
  },
  {
   "cell_type": "code",
   "execution_count": null,
   "metadata": {},
   "outputs": [],
   "source": [
    "f = Feiertag(1,1,2022, \"Neujahr\")\n",
    "f2 = Feiertag(8,3,2022, \"Frauentag\")\n",
    "f3 = Feiertag(24,12,2022, \"Heiliger Abend\")\n",
    "f4 = Feiertag(3,10,2022, \"Tag der Deutschen Einheit\")\n",
    "\n",
    "print(f4)"
   ]
  }
 ],
 "metadata": {
  "kernelspec": {
   "display_name": "Python 3",
   "language": "python",
   "name": "python3"
  },
  "language_info": {
   "codemirror_mode": {
    "name": "ipython",
    "version": 3
   },
   "file_extension": ".py",
   "mimetype": "text/x-python",
   "name": "python",
   "nbconvert_exporter": "python",
   "pygments_lexer": "ipython3",
   "version": "3.12.3"
  }
 },
 "nbformat": 4,
 "nbformat_minor": 4
}
