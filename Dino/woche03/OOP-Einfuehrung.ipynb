{
 "cells": [
  {
   "cell_type": "markdown",
   "metadata": {},
   "source": [
    "# Eine minimale Klasse in Python\n",
    "######  Beispiel ,,Fahrzeugklasse'' "
   ]
  },
  {
   "cell_type": "code",
   "execution_count": 1,
   "metadata": {},
   "outputs": [],
   "source": [
    "class Fahrzeug:\n",
    "    pass"
   ]
  },
  {
   "cell_type": "markdown",
   "metadata": {},
   "source": [
    "Eine Klasse besteht aus zwei Teilen: dem Kopf und dem Körper. Der Kopf besteht meist nur aus einer Zeile: das Schlüsselwort class, gefolgt von einem Leerzeichen, einem beliebigen Namen, - in unserem Fall Fahrzeug. Der Körper einer Klasse besteht aus einer eingerückten Folge von Anweisungen die wie in unserem Beispiel auch nur aus einer einzigen pass-Anweisung (der sogenannten Leer-Anweisung) bestehen kann. "
   ]
  },
  {
   "cell_type": "markdown",
   "metadata": {},
   "source": [
    "##### Instanzen erzeugen über den Klassennamen"
   ]
  },
  {
   "cell_type": "code",
   "execution_count": 2,
   "metadata": {},
   "outputs": [
    {
     "name": "stdout",
     "output_type": "stream",
     "text": [
      "False\n"
     ]
    }
   ],
   "source": [
    "fahrzeug_x = Fahrzeug()\n",
    "fahrzeug_y = Fahrzeug()\n",
    "\n",
    "print(fahrzeug_x == fahrzeug_y)\n"
   ]
  },
  {
   "cell_type": "markdown",
   "metadata": {},
   "source": [
    "## Eigenschaften und Attribute\n",
    "###### Einer Instanz kann man beliebige Attributnamen zuordnen."
   ]
  },
  {
   "cell_type": "code",
   "execution_count": 3,
   "metadata": {},
   "outputs": [
    {
     "name": "stdout",
     "output_type": "stream",
     "text": [
      "B-BR-2235\n",
      "2015\n"
     ]
    }
   ],
   "source": [
    "x = Fahrzeug()\n",
    "y = Fahrzeug()\n",
    "\n",
    "x.kennzeichen = \"B-BR-2235\"\n",
    "x.baujahr = 2015\n",
    "\n",
    "print(x.kennzeichen)\n",
    "print(x.baujahr)\n",
    "\n",
    "#print (y.kennzeichen)      # AttributeError"
   ]
  },
  {
   "cell_type": "markdown",
   "metadata": {},
   "source": [
    "#### Attribute können übrigens auch den Klassen selbst zugeordnet werden\n"
   ]
  },
  {
   "cell_type": "code",
   "execution_count": 4,
   "metadata": {},
   "outputs": [
    {
     "name": "stdout",
     "output_type": "stream",
     "text": [
      "1000\n",
      "2000\n"
     ]
    }
   ],
   "source": [
    "Fahrzeug.nummer = 1000\n",
    "print(Fahrzeug.nummer)\n",
    "\n",
    "x.nummer = 2000\n",
    "\n",
    "print(x.nummer)\n"
   ]
  },
  {
   "cell_type": "markdown",
   "metadata": {},
   "source": [
    "##### Die Objekte der meisten Klassen haben ein Attributdictionary __dict__, in dem die Attribute mit ihren Werten gespeichert werden"
   ]
  },
  {
   "cell_type": "code",
   "execution_count": 5,
   "metadata": {},
   "outputs": [
    {
     "data": {
      "text/plain": [
       "{'hersteller': 'VW', 'anzahl_türen': 5}"
      ]
     },
     "execution_count": 5,
     "metadata": {},
     "output_type": "execute_result"
    }
   ],
   "source": [
    "x = Fahrzeug()\n",
    "x.hersteller = \"VW\"\n",
    "x.anzahl_türen = 5\n",
    "\n",
    "x.__dict__"
   ]
  },
  {
   "cell_type": "markdown",
   "metadata": {},
   "source": [
    "##### Exkurs Dictionary (from openSAP: Python for Beginners)\n",
    "A dictionary consists of so-called key-value pairs. Dictionaries are represented by curly braces `{}`. The braces\n",
    "contain the individual key-value pairs separated by commas. Each key-value pair is represented as follows: `key: value`.  \n",
    "A dictionary therefore looks like this: `{key1: value1, key2: value2, ..., keyN: valueN}`. Have a look at the following\n",
    "example:"
   ]
  },
  {
   "cell_type": "code",
   "execution_count": 6,
   "metadata": {},
   "outputs": [
    {
     "name": "stdout",
     "output_type": "stream",
     "text": [
      "{'P. McCartney': 123456, 'J. Lennon': 987654321, 'G. Harrison': 11342555, 'R. Starr': 77788832}\n"
     ]
    }
   ],
   "source": [
    "phone_book = {\n",
    "    \"P. McCartney\": 123456,\n",
    "    \"J. Lennon\": 987654321,\n",
    "    \"G. Harrison\": 11342555,\n",
    "    \"R. Starr\": 77788832,\n",
    "}\n",
    "print(phone_book)"
   ]
  },
  {
   "cell_type": "markdown",
   "metadata": {},
   "source": [
    "## Methoden\n",
    "Eine Methode unterscheidet sich äußerlich nur in zwei Aspekten von einer Funktion: \n",
    "    \n",
    "    - Sie ist eine Funktion, die innerhalb einer class-Definition definiert ist.\n",
    "    - Der erste Parameter einer Methode ist immer eine Referenz auf die Instanz, von der sie aufgerufen wird. Diese Referenz wird üblicherweise mit ,,self'' genannt. "
   ]
  },
  {
   "cell_type": "code",
   "execution_count": 7,
   "metadata": {},
   "outputs": [],
   "source": [
    "class Fahrzeug:\n",
    "\n",
    "    def print_info(self):\n",
    "        print(\"Hersteller: \" + self.hersteller + \"  Baujahr: \" + str(self.baujahr)) # !Print kann nur Str konkatenieren\n",
    "\n",
    "    def set_hersteller(self, hersteller):\n",
    "        self.hersteller = hersteller\n",
    "\n",
    "    def set_baujahr(self, baujahr):\n",
    "        self.baujahr = baujahr"
   ]
  },
  {
   "cell_type": "code",
   "execution_count": 8,
   "metadata": {},
   "outputs": [
    {
     "name": "stdout",
     "output_type": "stream",
     "text": [
      "Hersteller: VW  Baujahr: 1979\n"
     ]
    }
   ],
   "source": [
    "x = Fahrzeug()\n",
    "\n",
    "x.set_hersteller(\"VW\")\n",
    "x.set_baujahr(1979)\n",
    "\n",
    "x.print_info()\n"
   ]
  },
  {
   "cell_type": "markdown",
   "metadata": {},
   "source": [
    "#### Darf man statt \"self\" irgendeinen beliebigen Namen verwenden(wie zum Beipiel \"this\")?\n",
    "Ja, man sollte es aber nicht machen und sich lieber an diese Konvention halten."
   ]
  },
  {
   "cell_type": "markdown",
   "metadata": {},
   "source": [
    "## Die  \\_\\_init\\_\\_- Methode als Konstruktor\n",
    "Die __init__-Methode wird unmittelbar und automatisch nach der Erzeugung eines Objektes aufgerufen und dient der Initialisierung der Attribute.\n",
    "Der Name beginnt und endet mit zwei Unterstrichen. Diese Methoden werden manchmal auch als \"Dunder\"-Methoden bezeichnet (DoubleUNDERscore, klar?)"
   ]
  },
  {
   "cell_type": "code",
   "execution_count": 9,
   "metadata": {},
   "outputs": [],
   "source": [
    "class Fahrzeug:\n",
    "\n",
    "    def __init__(self, hersteller, baujahr):\n",
    "        self.hersteller = hersteller\n",
    "        self.baujahr = baujahr\n",
    "\n",
    "    def print_info(self):\n",
    "        print(\"Hersteller: \" + self.hersteller + \"   Baujahr: \" + str(self.baujahr))\n",
    "\n",
    "    def set_hersteller(self, hersteller):\n",
    "        self.hersteller = hersteller\n",
    "\n",
    "    def set_baujahr(self, baujahr):\n",
    "        self.baujahr = baujahr"
   ]
  },
  {
   "cell_type": "code",
   "execution_count": 10,
   "metadata": {},
   "outputs": [
    {
     "name": "stdout",
     "output_type": "stream",
     "text": [
      "Hersteller: VW   Baujahr: 1979\n"
     ]
    }
   ],
   "source": [
    "x = Fahrzeug(\"VW\", 1979)\n",
    "x.print_info()\n"
   ]
  },
  {
   "cell_type": "markdown",
   "metadata": {},
   "source": [
    "## Datenkapselung"
   ]
  },
  {
   "cell_type": "markdown",
   "metadata": {},
   "source": [
    "##### Wie sieht es aus mit der Einhaltung der Datenkapselung bzw. Geheimnisprinzip?"
   ]
  },
  {
   "cell_type": "code",
   "execution_count": 11,
   "metadata": {},
   "outputs": [
    {
     "name": "stdout",
     "output_type": "stream",
     "text": [
      "VW\n"
     ]
    }
   ],
   "source": [
    "x = Fahrzeug(\"VW\", 1979)\n",
    "print(x.hersteller)    #  :-O   "
   ]
  },
  {
   "cell_type": "markdown",
   "metadata": {},
   "source": [
    "#### Public- Protected- und Private-Attribute\n",
    "\n"
   ]
  },
  {
   "cell_type": "raw",
   "metadata": {
    "vscode": {
     "languageId": "raw"
    }
   },
   "source": [
    "name    Public       Attribute ohne führende Unterstriche sind sowohl innerhalb einer Klasse als auch\n",
    "                     von außen les- und schreibbar.\n",
    "\n",
    "_name \tProtected    Man kann zwar auch von außen lesend und schreibend zugreifen, aber der Entwickler\n",
    "                     macht damit klar, dass man diese Member nicht benutzen sollte.\n",
    "\n",
    "__name \tPrivate      Sind von außen nicht sichtbar und nicht benutzbar."
   ]
  },
  {
   "cell_type": "code",
   "execution_count": null,
   "metadata": {},
   "outputs": [],
   "source": [
    "class A():\n",
    "\n",
    "    def __init__(self):\n",
    "        self.__priv = \"Ich bin privat\"\n",
    "        self._prot = \"Ich bin protected\"\n",
    "        self.pub = \"Ich bin öffentlich\""
   ]
  },
  {
   "cell_type": "code",
   "execution_count": null,
   "metadata": {},
   "outputs": [
    {
     "data": {
      "text/plain": [
       "'Ich bin öffentlich'"
      ]
     },
     "execution_count": 13,
     "metadata": {},
     "output_type": "execute_result"
    }
   ],
   "source": [
    "x = A()\n",
    "x.pub"
   ]
  },
  {
   "cell_type": "code",
   "execution_count": 14,
   "metadata": {},
   "outputs": [
    {
     "data": {
      "text/plain": [
       "'Man kann meinen Wert ändern und das ist gut so'"
      ]
     },
     "execution_count": 14,
     "metadata": {},
     "output_type": "execute_result"
    }
   ],
   "source": [
    "x.pub = \"Man kann meinen Wert ändern und das ist gut so\"\n",
    "x.pub"
   ]
  },
  {
   "cell_type": "code",
   "execution_count": 15,
   "metadata": {},
   "outputs": [
    {
     "data": {
      "text/plain": [
       "'Ich bin protected'"
      ]
     },
     "execution_count": 15,
     "metadata": {},
     "output_type": "execute_result"
    }
   ],
   "source": [
    "x._prot"
   ]
  },
  {
   "cell_type": "code",
   "execution_count": 16,
   "metadata": {},
   "outputs": [
    {
     "data": {
      "text/plain": [
       "'Der Wert kann aber sollte nicht von außen geändert werden!'"
      ]
     },
     "execution_count": 16,
     "metadata": {},
     "output_type": "execute_result"
    }
   ],
   "source": [
    "x._prot = \"Der Wert kann aber sollte nicht von außen geändert werden!\"\n",
    "x._prot"
   ]
  },
  {
   "cell_type": "code",
   "execution_count": 17,
   "metadata": {},
   "outputs": [
    {
     "ename": "AttributeError",
     "evalue": "'A' object has no attribute '__priv'",
     "output_type": "error",
     "traceback": [
      "\u001b[1;31m---------------------------------------------------------------------------\u001b[0m",
      "\u001b[1;31mAttributeError\u001b[0m                            Traceback (most recent call last)",
      "Cell \u001b[1;32mIn[17], line 1\u001b[0m\n\u001b[1;32m----> 1\u001b[0m \u001b[43mx\u001b[49m\u001b[38;5;241;43m.\u001b[39;49m\u001b[43m__priv\u001b[49m\n",
      "\u001b[1;31mAttributeError\u001b[0m: 'A' object has no attribute '__priv'"
     ]
    }
   ],
   "source": [
    "x.__priv"
   ]
  },
  {
   "cell_type": "markdown",
   "metadata": {},
   "source": [
    "#### Die neue Version der Klasse Fahrzeug"
   ]
  },
  {
   "cell_type": "code",
   "execution_count": 18,
   "metadata": {},
   "outputs": [],
   "source": [
    "class Fahrzeug:\n",
    "    \n",
    "    def __init__(self, hersteller, baujahr):\n",
    "        self.__hersteller = hersteller\n",
    "        self.__baujahr = baujahr\n",
    "    \n",
    "    def print_info(self):\n",
    "        print(\"Hersteller: \" + self.__hersteller + \"   Baujahr: \" + str(self.__baujahr))\n",
    "        \n",
    "    def set_hersteller(self, hersteller):\n",
    "        self.__hersteller = hersteller\n",
    "        \n",
    "    def get_hersteller(self):\n",
    "        return self.__hersteller\n",
    "    \n",
    "    def set_baujahr(self, baujahr):\n",
    "        self.__baujahr = baujahr\n",
    "        \n",
    "    def get_baujahr(self):\n",
    "        return str(self.__baujahr)"
   ]
  },
  {
   "cell_type": "code",
   "execution_count": 19,
   "metadata": {},
   "outputs": [
    {
     "name": "stdout",
     "output_type": "stream",
     "text": [
      "Hersteller: VW   Baujahr: 1979\n",
      "Hersteller: BMW   Baujahr: 1993\n"
     ]
    }
   ],
   "source": [
    "    x = Fahrzeug(\"VW\", 1979)\n",
    "    y = Fahrzeug(\"BMW\", 1993)\n",
    "    for fz in [x, y]:\n",
    "        fz.print_info()\n",
    "        #print(\"Baujahr: \" + fz.get_baujahr())"
   ]
  },
  {
   "cell_type": "markdown",
   "metadata": {},
   "source": [
    "## Die \\_\\_str\\_\\_ Methode "
   ]
  },
  {
   "cell_type": "code",
   "execution_count": null,
   "metadata": {},
   "outputs": [],
   "source": [
    "class Fahrzeug:\n",
    "    \n",
    "    def __init__(self, kennzeichen, hersteller):\n",
    "        self.kennzeichen = kennzeichen\n",
    "        self.hersteller = hersteller"
   ]
  },
  {
   "cell_type": "code",
   "execution_count": 20,
   "metadata": {},
   "outputs": [
    {
     "name": "stdout",
     "output_type": "stream",
     "text": [
      "<__main__.Fahrzeug object at 0x000002054167B740>\n",
      "<__main__.Fahrzeug object at 0x000002054167B740>\n"
     ]
    }
   ],
   "source": [
    "f = Fahrzeug(\"B-1234\", \"VW\")\n",
    "print(str(f))\n",
    "print(f)"
   ]
  },
  {
   "cell_type": "code",
   "execution_count": null,
   "metadata": {},
   "outputs": [],
   "source": [
    "class Fahrzeug:\n",
    "\n",
    "    def __init__(self, kennzeichen, hersteller):\n",
    "        self.kennzeichen = kennzeichen\n",
    "        self.hersteller = hersteller\n",
    "\n",
    "    def __str__(self):\n",
    "        return \"Kennzeichen: \" + self.kennzeichen + \", Hersteller: \" +  self.hersteller"
   ]
  },
  {
   "cell_type": "code",
   "execution_count": 22,
   "metadata": {},
   "outputs": [
    {
     "name": "stdout",
     "output_type": "stream",
     "text": [
      "Kennzeichen: B-1234, Hersteller: VW\n",
      "Kennzeichen: B-1234, Hersteller: VW\n"
     ]
    }
   ],
   "source": [
    "f = Fahrzeug(\"B-1234\", \"VW\")\n",
    "print(str(f))\n",
    "print(f)"
   ]
  },
  {
   "cell_type": "markdown",
   "metadata": {},
   "source": [
    "## Überladung von Operatoren"
   ]
  },
  {
   "cell_type": "markdown",
   "metadata": {},
   "source": [
    "Eine Liste aller magischen (\"Dunder-\") Methoden und Operatoren finden Sie unter https://www.python-kurs.eu/python3_magische_methoden.php"
   ]
  },
  {
   "cell_type": "code",
   "execution_count": 23,
   "metadata": {},
   "outputs": [],
   "source": [
    "class Person:\n",
    "\n",
    "\n",
    "    def __init__(self, vorname, nachname, personalnummer):\n",
    "        self.__vorname = vorname\n",
    "        self.__nachname = nachname\n",
    "        self.personalnummer = personalnummer\n",
    "\n",
    "    def __str__(self):\n",
    "        return self.__vorname + \" \" + self.__nachname + \" \" + str(self.personalnummer)\n",
    "\n",
    "    def __eq__(self, other):\n",
    "        return self.personalnummer == other.personalnummer\n",
    "\n",
    "    def __ne__(self, other):\n",
    "        return self.personalnummer != other.personalnummer\n",
    "\n",
    "    def __lt__(self, other):\n",
    "        return self.personalnummer < other.personalnummer\n",
    "\n",
    "    def __gt__(self, other):\n",
    "        return self.personalnummer > other.personalnummer\n",
    "\n",
    "    def __le__(self, other):\n",
    "        return self.personalnummer <= other.personalnummer\n",
    "\n",
    "    def __ge__(self, other):\n",
    "        return self.personalnummer >= other.personalnummer"
   ]
  },
  {
   "cell_type": "code",
   "execution_count": 24,
   "metadata": {},
   "outputs": [
    {
     "name": "stdout",
     "output_type": "stream",
     "text": [
      "False\n",
      "True\n",
      "False\n",
      "False\n",
      "True\n",
      "True\n",
      "Homer Simpson 007\n"
     ]
    }
   ],
   "source": [
    "p1 = Person(\"Homer\", \"Simpson\", \"007\")\n",
    "p2 = Person(\"Bart\", \"Simpson\", \"707\")\n",
    "\n",
    "print (p1 == p2)\n",
    "print (p1 != p2)\n",
    "print (p1 > p2)\n",
    "print (p1 >= p2)\n",
    "print (p1 < p2)\n",
    "print (p1 <= p2)\n",
    "\n",
    "print(str(p1))\n",
    "\n"
   ]
  },
  {
   "cell_type": "code",
   "execution_count": null,
   "metadata": {},
   "outputs": [
    {
     "name": "stdout",
     "output_type": "stream",
     "text": [
      "4\n",
      "[1, 2, 3]\n"
     ]
    }
   ],
   "source": []
  }
 ],
 "metadata": {
  "kernelspec": {
   "display_name": "Python 3",
   "language": "python",
   "name": "python3"
  },
  "language_info": {
   "codemirror_mode": {
    "name": "ipython",
    "version": 3
   },
   "file_extension": ".py",
   "mimetype": "text/x-python",
   "name": "python",
   "nbconvert_exporter": "python",
   "pygments_lexer": "ipython3",
   "version": "3.12.3"
  }
 },
 "nbformat": 4,
 "nbformat_minor": 4
}
