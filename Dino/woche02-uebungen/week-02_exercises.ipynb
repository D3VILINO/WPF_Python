{
 "cells": [
  {
   "cell_type": "markdown",
   "metadata": {},
   "source": [
    "# Day 1 Exercise: Python Basics\n",
    "\n",
    "This sheet will help you learn the python basics!\n",
    "\n",
    "To test your code, simply add any number of cells! The provided function headers should give you some help and a hint to a solution, but you don't have to use them!\n",
    "\n",
    "**Remember**: \n",
    "- test your code a lot, to see which changes have which effects. \n",
    "- it is also helpful to try to solve the assignment in small steps.\n",
    "- everything you need were covered in the lecture, try to look there before using google."
   ]
  },
  {
   "cell_type": "markdown",
   "metadata": {},
   "source": [
    "## 1. Build a List Evaluator"
   ]
  },
  {
   "cell_type": "markdown",
   "metadata": {},
   "source": [
    "Fill out the function below, which calculates and prints out the maximum value, minimum value, sum of all values, average, and the variance for a list of numbers. (Try not to use the sum, max or min functions in python).\n",
    "\n",
    "(Quick reminder variance)\n",
    "![](variance-formula.png)"
   ]
  },
  {
   "cell_type": "code",
   "execution_count": 8,
   "metadata": {},
   "outputs": [],
   "source": [
    "def evaluate_list(values):\n",
    "    # YOUR CODE starts here!\n",
    "    \n",
    "    # YOUR CODE ENDS here!\n",
    "    return max_value, min_value, avg_value, var_value"
   ]
  },
  {
   "cell_type": "markdown",
   "metadata": {},
   "source": [
    "## 2.  Build a simple calculator\n",
    "\n",
    "Write a function, which takes in two numbers, x and y, and does a mathmatical operation of those numbers. The third input is the operation, which should be a string. Possible operations are: \n",
    "- **add**\n",
    "- **subtract**, \n",
    "- **multiply**, \n",
    "- **divide**, \n",
    "- **whole-division**\n",
    "- **modulo**\n",
    "- **power**\n",
    "\n",
    "Your function should make sure the values x and y are of type _int_ or _float_. If the values x and y are not numbers, or the operation is not one of the listed ones, the function should print out a message with the error and return `None`."
   ]
  },
  {
   "cell_type": "code",
   "execution_count": 21,
   "metadata": {},
   "outputs": [
    {
     "name": "stdout",
     "output_type": "stream",
     "text": [
      "Welcome to a basic calculator\n",
      "3 / 0.10 = 30.00\n"
     ]
    }
   ],
   "source": [
    "def main(args):\n",
    "    print(\"Welcome to a basic calculator\")\n",
    "    try:\n",
    "        num_1 = strToIntOrFloat(input(\"Enter Number 1: \"))\n",
    "        num_2 = strToIntOrFloat(input(\"Enter Number 2: \"))\n",
    "        operation = str(input(\"Operation (+, -, *, /, //, %, **): \"))\n",
    "\n",
    "        result = formatNumber(list_evaluator(num_1, num_2, operation))\n",
    "        num_1 = formatNumber(num_1)\n",
    "        num_2 = formatNumber(num_2)\n",
    "\n",
    "        # type einer variablen zuweisen und diese dann vergleiche\n",
    "        print(f\"{num_1} {operation} {num_2} = {result}\")\n",
    "    except (ValueError, TypeError):\n",
    "        print(\"Please enter a valid input\")\n",
    "\n",
    "def formatNumber(num):\n",
    "    return f\"{num}\" if isinstance(num, int) else f\"{num:.2f}\"\n",
    "\n",
    "def strToIntOrFloat(var):\n",
    "    try: \n",
    "        var = int(var)\n",
    "    except ValueError:\n",
    "        var = float(var)\n",
    "    return var\n",
    "\n",
    "def list_evaluator(num_1, num_2, operation):\n",
    "    result = None\n",
    "\n",
    "    if operation == \"+\":\n",
    "        result = num_1 + num_2\n",
    "    elif operation == \"-\":\n",
    "        result = num_1 - num_2\n",
    "    elif operation == \"*\":\n",
    "        result = num_1 * num_2\n",
    "    elif operation == \"/\":\n",
    "        result = num_1 / num_2\n",
    "    elif operation == \"//\":\n",
    "        result = int(num_1 // num_2)\n",
    "    elif operation == \"%\":\n",
    "        result = num_1 % num_2\n",
    "    elif operation == \"**\":\n",
    "        result = num_1 ** num_2\n",
    "\n",
    "    return result\n",
    "\n",
    "main(\"\")"
   ]
  },
  {
   "cell_type": "markdown",
   "metadata": {},
   "source": [
    "## 3. Build an Invoice Generator\n",
    "\n",
    "Write a function, which prints out an invoice for an order for a supermarket. At the moment, the supermarket only has only 4 different products and prices for each: \n",
    "\n",
    "- Watermelons for 3.8\n",
    "- Apples  for 0.9 \n",
    "- Bananas for 1.1 \n",
    "- Tomatoes for 2.7\n",
    "\n",
    "Since the supermarket is pretty new, they have a special going on: If one buys more tomatoes than watermelons, the bananas are free! Else, if the price for all apples is higher than the price for all tomatoes, the watermelons are free! (weird special , I know).\n",
    "The input for the generator is: the name of the customer and number of each item bought. The generator should print out an invoice."
   ]
  },
  {
   "cell_type": "code",
   "execution_count": 3,
   "metadata": {},
   "outputs": [
    {
     "name": "stdout",
     "output_type": "stream",
     "text": [
      "What would you like to order?:\n",
      "[1] Watermelons for 3.8\n",
      "[2] Apples for 0.9\n",
      "[3] Bananas for 1.1\n",
      "[4] Tomatoes for 2.7\n",
      "[5] ORDER selection\n",
      "[6] CANCEL selection\n",
      "Your order has been reseted. Please order again\n",
      "You have not chosen any product\n",
      "Please come back for an order next time\n"
     ]
    }
   ],
   "source": [
    "# this code got messy because I forgot the date for completion isn't sunday\n",
    "\n",
    "products = [(\"Watermelons\", 3.8), (\"Apples\", 0.9), (\"Bananas\", 1.1), (\"Tomatoes\", 2.7)]\n",
    "orderSelection = [0] * len(products)\n",
    "\n",
    "def invoice_generator():\n",
    "    global orderSelection\n",
    "    global products\n",
    "\n",
    "    if all(order == 0 for order in orderSelection):\n",
    "        print(\"You have not chosen any product\")\n",
    "        return False\n",
    "    \n",
    "    price = 0\n",
    "    for i in range(0, len(orderSelection)):\n",
    "        price += orderSelection[i] * products[i][1]\n",
    "    \n",
    "    if orderSelection[3] > orderSelection[0]:\n",
    "        price -= orderSelection[2] * products[2][1]\n",
    "    elif orderSelection[1] * products[1][1] > orderSelection[3] * products[3][1]:\n",
    "        price -= orderSelection[2] * products[2][1]\n",
    "\n",
    "    return price\n",
    "\n",
    "def getPrice(productName):\n",
    "    global products\n",
    "    for product in products:\n",
    "        if product[0] == productName:\n",
    "            return product[1]\n",
    "    return None\n",
    "\n",
    "def main(args):\n",
    "    global orderSelection\n",
    "    global products\n",
    "    print(\"What would you like to order?:\")\n",
    "    for i in range(0, len(products)):\n",
    "        print(f\"[{i + 1}] {products[i][0]} for {products[i][1]}\")\n",
    "    print(f\"[{len(products) + 1}] ORDER selection\")\n",
    "    print(f\"[{len(products) + 2}] CANCEL selection\")\n",
    "\n",
    "    while True:\n",
    "        if takeOrder() == False:\n",
    "            break\n",
    "\n",
    "    price = invoice_generator()\n",
    "\n",
    "    if price == False:\n",
    "        print(\"Please come back for an order next time\")\n",
    "    else:\n",
    "        print()\n",
    "        print(\"You ordered: \")\n",
    "        for i in range(0, len(products)):\n",
    "            print(f\"[{orderSelection[i]}] {products[i][0]}\")\n",
    "        print()\n",
    "        print(f\"That makes a total of {price:.2f}\")\n",
    "           \n",
    "def takeOrder():\n",
    "    global orderSelection\n",
    "    try:\n",
    "        index = int(input(\"Please enter your product-number: \")) - 1\n",
    "        if index == len(orderSelection):\n",
    "            return False\n",
    "        elif index == len(orderSelection) + 1:\n",
    "            orderSelection = [0] * len(orderSelection)\n",
    "            print(\"Your order has been reseted. Please order again\")\n",
    "        else:\n",
    "            amount = int(input(\"Please enter the desired amount of your product: \"))\n",
    "            orderSelection[index] += amount\n",
    "    except (ValueError, TypeError):\n",
    "        print(\"Please enter a valid input\")\n",
    "    return True\n",
    "\n",
    "main(\"\")"
   ]
  },
  {
   "cell_type": "markdown",
   "metadata": {},
   "source": [
    "## 4. Fibonnaci\n",
    "\n",
    "Write a function which calculates and prints the fibonacci series up to n. If that is too easy: Rewrite the function recursively (the function should call itself)."
   ]
  },
  {
   "cell_type": "code",
   "execution_count": 2,
   "metadata": {},
   "outputs": [
    {
     "name": "stdout",
     "output_type": "stream",
     "text": [
      "[0, 1, 1, 2, 3, 5, 8, 13, 21, 34]\n"
     ]
    }
   ],
   "source": [
    "def fibonacci(max_iterations, step = 0, fib_series = [0, 1]):\n",
    "    if step < max_iterations:\n",
    "        fib_series.append(fib_series[-1] + fib_series[-2])\n",
    "        step += 1\n",
    "        fibonacci(max_iterations, step, fib_series)\n",
    "\n",
    "    return fib_series\n",
    "\n",
    "print(fibonacci(8))"
   ]
  },
  {
   "cell_type": "markdown",
   "metadata": {},
   "source": [
    "## 5. Smart Indexing"
   ]
  },
  {
   "cell_type": "markdown",
   "metadata": {},
   "source": [
    "Create a list with the values from 0 to 99, and use slicing to create the following lists:\n",
    "1. a list with all even numbers \n",
    "2. a list with all numbers dividable by 7\n",
    "3. a list of numbers dividable by 9, in reverse order\n",
    "4. a list all numbers, which start with an odd number\n",
    "\n",
    "Print out the lists in the given function."
   ]
  },
  {
   "cell_type": "code",
   "execution_count": 16,
   "metadata": {},
   "outputs": [
    {
     "name": "stdout",
     "output_type": "stream",
     "text": [
      "[1, 3, 5, 7, 9, 10, 30, 50, 70, 90]\n"
     ]
    }
   ],
   "source": [
    "def ex5():\n",
    "    original_list = [i for i in range(0, 100)]\n",
    "    evenNumbers = original_list[2::2]\n",
    "    dividableBySeven = original_list[7::7]\n",
    "    dividableByNineReversed = original_list[9::9]\n",
    "    dividableByNineReversed.reverse()\n",
    "    startingOdd = original_list[1:10:2] + original_list[10::20]\n",
    "\n",
    "    return startingOdd\n",
    "\n",
    "print(ex5())"
   ]
  },
  {
   "cell_type": "markdown",
   "metadata": {},
   "source": [
    "## 6. Build an Encrypter and Decrypter"
   ]
  },
  {
   "cell_type": "markdown",
   "metadata": {},
   "source": [
    "Create an encrypt function that takes a string and returns the sentence with all the letters transposed by a key in the alphabet. The key is an integer specfied in the encrypt function. Also write a decrypt function, which takes an encrypted sentence and a key as input and returns the initial string (if the key is correct!). Symbols should not be transposed!\n",
    "\n",
    "Example: \n",
    "- message: \"abc\", \n",
    "- key:3 \"abc\" \n",
    "\n",
    "`\"abc\"` -> (encrypt)-> `\"def\"` (decrypt)-> `\"abc\"`\n",
    "\n",
    "**Hint**: be careful at edge cases! What should happen with letters at the end of the alphabet?   "
   ]
  },
  {
   "cell_type": "code",
   "execution_count": 38,
   "metadata": {},
   "outputs": [
    {
     "data": {
      "text/plain": [
       "'ad1b'"
      ]
     },
     "execution_count": 38,
     "metadata": {},
     "output_type": "execute_result"
    }
   ],
   "source": [
    "def encode(message, key):\n",
    "    letters = (\"a\", \"b\", \"c\", \"d\", \"e\", \"f\", \"g\", \"h\", \"i\", \"j\", \"k\", \"l\", \"m\", \"n\", \"o\", \"p\", \"q\", \"r\", \"s\", \"t\", \"u\", \"v\", \"w\", \"x\", \"y\", \"z\")\n",
    "    encode_message = \"\"\n",
    "\n",
    "    for i in range(len(message)):\n",
    "        change = False\n",
    "        for j in range(len(letters)):\n",
    "            if message[i] == letters[j]:\n",
    "                if j + key < len(letters):\n",
    "                    encode_message += letters[j + key]\n",
    "                else:\n",
    "                    encode_message += letters[j + key - len(letters)]\n",
    "                change = True\n",
    "                break\n",
    "        if not change:\n",
    "            encode_message += message[i]\n",
    "\n",
    "    return encode_message\n",
    "\n",
    "encode(\"xa1y\", 3)"
   ]
  },
  {
   "cell_type": "code",
   "execution_count": 36,
   "metadata": {},
   "outputs": [
    {
     "data": {
      "text/plain": [
       "'ux1v'"
      ]
     },
     "execution_count": 36,
     "metadata": {},
     "output_type": "execute_result"
    }
   ],
   "source": [
    "def decode(message, key):\n",
    "    letters = (\"a\", \"b\", \"c\", \"d\", \"e\", \"f\", \"g\", \"h\", \"i\", \"j\", \"k\", \"l\", \"m\", \"n\", \"o\", \"p\", \"q\", \"r\", \"s\", \"t\", \"u\", \"v\", \"w\", \"x\", \"y\", \"z\")\n",
    "    decode_message = \"\"\n",
    "\n",
    "    for i in range(len(message)):\n",
    "        change = False\n",
    "        for j in range(len(letters)):\n",
    "            if message[i] == letters[j]:\n",
    "                if j - key >= 0:\n",
    "                    decode_message += letters[j - key]\n",
    "                else:\n",
    "                    decode_message += letters[j - key + len(letters)]\n",
    "                change = True\n",
    "                break\n",
    "        if not change:\n",
    "            decode_message += message[i]\n",
    "\n",
    "    return decode_message\n",
    "\n",
    "decode(\"xa1y\", 3)"
   ]
  },
  {
   "cell_type": "markdown",
   "metadata": {},
   "source": [
    "## 7. (Advanced) Build a X-mas Tree generator"
   ]
  },
  {
   "cell_type": "markdown",
   "metadata": {},
   "source": [
    "Write a function which prints out a christmas tree! The tree consisits out of stars. The input to the function is only the number of levels and the height of each level. With each level, the tree gets two stars wider. \n",
    "\n",
    "Example with `num_levels=5` and `height_level=6`:\n",
    "\n",
    "![](example_xmas_tree.png)\n",
    "\n",
    "**Hint**: You definetly need to use loops and print spaces for places not filled with stars. Also try to calculate first the width of the tree."
   ]
  },
  {
   "cell_type": "code",
   "execution_count": 19,
   "metadata": {},
   "outputs": [],
   "source": [
    "def build_xmas_tree(height_level, num_levels):\n",
    "    # YOUR CODE starts here!\n",
    "    \n",
    "    # YOUR CODE ENDS here!\n",
    "    return"
   ]
  }
 ],
 "metadata": {
  "kernelspec": {
   "display_name": "Python 3",
   "language": "python",
   "name": "python3"
  },
  "language_info": {
   "codemirror_mode": {
    "name": "ipython",
    "version": 3
   },
   "file_extension": ".py",
   "mimetype": "text/x-python",
   "name": "python",
   "nbconvert_exporter": "python",
   "pygments_lexer": "ipython3",
   "version": "3.12.3"
  }
 },
 "nbformat": 4,
 "nbformat_minor": 2
}
