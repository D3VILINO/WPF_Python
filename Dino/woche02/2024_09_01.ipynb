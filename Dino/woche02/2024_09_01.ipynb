{
 "cells": [
  {
   "cell_type": "markdown",
   "id": "62096b47",
   "metadata": {},
   "source": [
    "# Python"
   ]
  },
  {
   "cell_type": "markdown",
   "id": "d0a75cbb",
   "metadata": {},
   "source": [
    "## Software"
   ]
  },
  {
   "cell_type": "markdown",
   "id": "c82dc333",
   "metadata": {},
   "source": [
    "- Anaconda: Python-Distribution\n",
    "\t- Python 3.x\n",
    "\t- virtuelle Umgebungen mit conda\n",
    "\t- Jupyter\n",
    "\t\t- web-basierte interaktive Umgebung\n",
    "\t- Visual Studio Code\n",
    "\t\t- kann ebenfalls Jupyter-Notebooks öffnen\n",
    "\t- weitere Apps und Bibliotheken\n",
    "- andere IDEs (z. B. PyCharm möglich, aber kein Support durch die Lehrenden)"
   ]
  },
  {
   "cell_type": "markdown",
   "id": "fe894cca",
   "metadata": {},
   "source": [
    "## Über Python\n",
    "- Python wird interpretiert, mit allen Vor- und Nachteilen.\n",
    "\t- Der Interpretor führt Zeile für Zeile aus, von oben nach unten und links nach rechts.\n",
    "\t- In Falle von Syntaxfehlern wird das Programm beendet.\n",
    "- Einsatz vor allem im wissenschaftlichen Umfeld (Data Science), kann aber überall verwendet werden.\n",
    "- Wir nutzen **Python 3.x**."
   ]
  },
  {
   "cell_type": "markdown",
   "id": "3751cce4",
   "metadata": {},
   "source": [
    "# Einführung in Python\n",
    "## Grundlagen\n",
    "\n"
   ]
  },
  {
   "cell_type": "markdown",
   "id": "a51e14ea",
   "metadata": {},
   "source": []
  },
  {
   "cell_type": "markdown",
   "id": "5b7e3d09",
   "metadata": {},
   "source": [
    "### Konsolenausgabe"
   ]
  },
  {
   "cell_type": "code",
   "execution_count": null,
   "id": "88179333",
   "metadata": {},
   "outputs": [],
   "source": [
    "print(\"Hello World\")"
   ]
  },
  {
   "cell_type": "code",
   "execution_count": null,
   "id": "fdef7d74",
   "metadata": {},
   "outputs": [],
   "source": [
    "print('Hello')"
   ]
  },
  {
   "cell_type": "code",
   "execution_count": null,
   "id": "c800d1df",
   "metadata": {},
   "outputs": [],
   "source": [
    "name = \"Frau Steffen\""
   ]
  },
  {
   "cell_type": "code",
   "execution_count": null,
   "id": "344259d1",
   "metadata": {},
   "outputs": [],
   "source": [
    "print(\"Hallo\", name)"
   ]
  },
  {
   "cell_type": "code",
   "execution_count": null,
   "id": "252a07a4",
   "metadata": {},
   "outputs": [],
   "source": [
    "print(\"Hallo \" + name)"
   ]
  },
  {
   "cell_type": "code",
   "execution_count": null,
   "id": "564d8159",
   "metadata": {},
   "outputs": [],
   "source": [
    "print(\"Hello\", name, \"wie gehts?\", sep=\" \", end=\"\")\n",
    "print(\"Test\")"
   ]
  },
  {
   "cell_type": "markdown",
   "id": "6c62450c",
   "metadata": {},
   "source": [
    "### Formatieren"
   ]
  },
  {
   "cell_type": "markdown",
   "id": "72deb47c",
   "metadata": {},
   "source": [
    "#### format()\n",
    "Weitere Beispiele: https://www.python-kurs.eu/python3_formatierte_ausgabe.php"
   ]
  },
  {
   "cell_type": "code",
   "execution_count": null,
   "id": "7e42ba86",
   "metadata": {},
   "outputs": [],
   "source": [
    "3/7"
   ]
  },
  {
   "cell_type": "code",
   "execution_count": null,
   "id": "319a6b7d",
   "metadata": {},
   "outputs": [
    {
     "data": {
      "text/plain": [
       "'0.43'"
      ]
     },
     "execution_count": 1,
     "metadata": {},
     "output_type": "execute_result"
    }
   ],
   "source": [
    "a = 3/7\n",
    "\"{0:0.2f}\".format(a)"
   ]
  },
  {
   "cell_type": "code",
   "execution_count": null,
   "id": "4246ba8b",
   "metadata": {},
   "outputs": [
    {
     "data": {
      "text/plain": [
       "'Artikel:   453,  Preis:    59.06'"
      ]
     },
     "execution_count": 13,
     "metadata": {},
     "output_type": "execute_result"
    }
   ],
   "source": [
    "\"Artikel: {0:5d},  Preis: {1:8.2f}\".format(453, 59.058)"
   ]
  },
  {
   "cell_type": "code",
   "execution_count": 7,
   "id": "fe422b1a",
   "metadata": {},
   "outputs": [
    {
     "data": {
      "text/plain": [
       "'Artikel:   453,  Preis:    59.06'"
      ]
     },
     "execution_count": 7,
     "metadata": {},
     "output_type": "execute_result"
    }
   ],
   "source": [
    "\"Artikel: {a:5d},  Preis: {p:8.2f}\".format(a=453, p=59.058)"
   ]
  },
  {
   "cell_type": "markdown",
   "id": "64042774",
   "metadata": {},
   "source": [
    "### Kommentare in Python"
   ]
  },
  {
   "cell_type": "code",
   "execution_count": null,
   "id": "0560775e",
   "metadata": {},
   "outputs": [],
   "source": [
    "# Das ist ein Kommentar. In Python gibt es nur einzeilige Kommentare!"
   ]
  },
  {
   "cell_type": "markdown",
   "id": "1fef6b84",
   "metadata": {},
   "source": [
    "### Eingaben"
   ]
  },
  {
   "cell_type": "code",
   "execution_count": null,
   "id": "3ec34c52",
   "metadata": {},
   "outputs": [],
   "source": [
    "vorname = input(\"Eingabe Vorname: \")\n",
    "print(vorname)"
   ]
  },
  {
   "cell_type": "code",
   "execution_count": null,
   "id": "89135e21",
   "metadata": {},
   "outputs": [],
   "source": [
    "name : str = input(\"Geben Sie Ihren Namen ein: \") # Type Hints\n",
    "print(\"Hallo\", name)\n",
    "type(name)"
   ]
  },
  {
   "cell_type": "markdown",
   "id": "cf3416c3",
   "metadata": {},
   "source": [
    "#### Type Hints\n",
    "Helfen, Fehler in komplexen Projekten zu vermeiden, werden von Python aber ignoriert. Interessant für IDEs wie PyCharm, die Vorab-Checks des Codes ausführen.\n",
    "```Specifying a variable type in Python does not mean the variable can only accept values of that type. They are just hints that inform a user of the type which a variable is.``` https://www.pythonstacks.com/blog/post/type-hints-python/"
   ]
  },
  {
   "cell_type": "code",
   "execution_count": null,
   "id": "9df0fa5f",
   "metadata": {},
   "outputs": [],
   "source": [
    "type(name)"
   ]
  },
  {
   "cell_type": "markdown",
   "id": "63637836",
   "metadata": {},
   "source": [
    "`type()`gibt den aktuellen Datentypen zurück."
   ]
  },
  {
   "cell_type": "code",
   "execution_count": null,
   "id": "76293c4f",
   "metadata": {},
   "outputs": [],
   "source": [
    "zahl = int(input(\"Geben Sie eine Zahl ein: \"))\n",
    "type(zahl)\n",
    "print (zahl + 2)"
   ]
  },
  {
   "cell_type": "markdown",
   "id": "974d6e23",
   "metadata": {},
   "source": [
    "### Datentypen"
   ]
  },
  {
   "cell_type": "code",
   "execution_count": 2,
   "id": "15a5a47c",
   "metadata": {},
   "outputs": [
    {
     "data": {
      "text/plain": [
       "(float, bool, int, str, str, list, tuple)"
      ]
     },
     "execution_count": 2,
     "metadata": {},
     "output_type": "execute_result"
    }
   ],
   "source": [
    "a = 1.1\n",
    "b = True\n",
    "c = 20\n",
    "d = 'Hello'\n",
    "e = \"World\"\n",
    "f = [1,2,\"Hello\"]\n",
    "g = (1,2,3)\n",
    "type(a),type(b), type(c), type(d), type(e), type(f), type(g)"
   ]
  },
  {
   "cell_type": "code",
   "execution_count": 3,
   "id": "c03e3829",
   "metadata": {},
   "outputs": [
    {
     "name": "stdout",
     "output_type": "stream",
     "text": [
      "1\n"
     ]
    }
   ],
   "source": [
    "print(g[0])"
   ]
  },
  {
   "cell_type": "code",
   "execution_count": 4,
   "id": "caa36bbe",
   "metadata": {},
   "outputs": [
    {
     "ename": "TypeError",
     "evalue": "'tuple' object does not support item assignment",
     "output_type": "error",
     "traceback": [
      "\u001b[1;31m---------------------------------------------------------------------------\u001b[0m",
      "\u001b[1;31mTypeError\u001b[0m                                 Traceback (most recent call last)",
      "Cell \u001b[1;32mIn[4], line 1\u001b[0m\n\u001b[1;32m----> 1\u001b[0m \u001b[43mg\u001b[49m\u001b[43m[\u001b[49m\u001b[38;5;241;43m0\u001b[39;49m\u001b[43m]\u001b[49m \u001b[38;5;241m=\u001b[39m \u001b[38;5;241m2\u001b[39m\n",
      "\u001b[1;31mTypeError\u001b[0m: 'tuple' object does not support item assignment"
     ]
    }
   ],
   "source": [
    "g[0] = 2"
   ]
  },
  {
   "cell_type": "code",
   "execution_count": null,
   "id": "9ad460e7",
   "metadata": {},
   "outputs": [],
   "source": [
    "f[2] = \"Hello World\"\n",
    "print(f)"
   ]
  },
  {
   "cell_type": "markdown",
   "id": "1d563323",
   "metadata": {},
   "source": [
    "### Type Casting"
   ]
  },
  {
   "cell_type": "code",
   "execution_count": 5,
   "id": "84b2eb91",
   "metadata": {},
   "outputs": [
    {
     "name": "stdout",
     "output_type": "stream",
     "text": [
      "<class 'int'>\n"
     ]
    },
    {
     "data": {
      "text/plain": [
       "'2'"
      ]
     },
     "execution_count": 5,
     "metadata": {},
     "output_type": "execute_result"
    }
   ],
   "source": [
    "zahl = 2\n",
    "print(type(zahl))\n",
    "str(zahl)\n"
   ]
  },
  {
   "cell_type": "markdown",
   "id": "549b795f",
   "metadata": {},
   "source": [
    "### Zahlen"
   ]
  },
  {
   "cell_type": "code",
   "execution_count": null,
   "id": "617e5b72",
   "metadata": {},
   "outputs": [],
   "source": [
    "x1 = 111 # Ganze Zahlen\n",
    "x2 = 0o14 # Oktalzahl\n",
    "x3 = 0b10001 # Binärzahl\n",
    "x4 = 0xAB # Hexadezimalzahl\n",
    "print(x2)"
   ]
  },
  {
   "cell_type": "markdown",
   "id": "849e558e",
   "metadata": {},
   "source": [
    "Funfact\n",
    "Python kann sehr hohe Zahlen rechnen:"
   ]
  },
  {
   "cell_type": "code",
   "execution_count": null,
   "id": "4eb3914a",
   "metadata": {},
   "outputs": [],
   "source": [
    "16485345486715646548961354165486 * 4561234354986145456455156446456"
   ]
  },
  {
   "cell_type": "code",
   "execution_count": null,
   "id": "764855b1",
   "metadata": {},
   "outputs": [],
   "source": [
    "2 ** 800000"
   ]
  },
  {
   "cell_type": "markdown",
   "id": "e957571d",
   "metadata": {},
   "source": [
    "### Arithmetische Operatoren"
   ]
  },
  {
   "cell_type": "markdown",
   "id": "80055b61",
   "metadata": {},
   "source": [
    "\\* / + - % ** //"
   ]
  },
  {
   "cell_type": "markdown",
   "id": "928a6f38",
   "metadata": {},
   "source": [
    "### Logische Operatoren"
   ]
  },
  {
   "cell_type": "markdown",
   "id": "3261655a",
   "metadata": {},
   "source": [
    "and not or xor & |"
   ]
  },
  {
   "cell_type": "code",
   "execution_count": 14,
   "id": "9fb7312e",
   "metadata": {},
   "outputs": [
    {
     "name": "stdout",
     "output_type": "stream",
     "text": [
      "0b10111\n"
     ]
    }
   ],
   "source": [
    "a = 0b10101\n",
    "b = 0b10110\n",
    "print(bin(a|b))"
   ]
  },
  {
   "cell_type": "code",
   "execution_count": 15,
   "id": "bee59b4f",
   "metadata": {},
   "outputs": [
    {
     "name": "stdout",
     "output_type": "stream",
     "text": [
      "0b10100\n"
     ]
    }
   ],
   "source": [
    "print(bin(a&b))"
   ]
  },
  {
   "cell_type": "markdown",
   "id": "2e093cc0",
   "metadata": {},
   "source": [
    "### Vergleichsoperatoren"
   ]
  },
  {
   "cell_type": "markdown",
   "id": "b34ec846",
   "metadata": {},
   "source": [
    "== != < > <= >= ..."
   ]
  },
  {
   "cell_type": "markdown",
   "id": "bcf772a3",
   "metadata": {},
   "source": [
    "## Kontrollstrukturen\n",
    "### Anweisungen/Sequenz\n",
    "siehe oben\n",
    "### Verzweigung/Auswahl (IF)"
   ]
  },
  {
   "cell_type": "code",
   "execution_count": null,
   "id": "d45472f5",
   "metadata": {},
   "outputs": [],
   "source": [
    "z1 = int(input(\"Zahl1: \"))\n",
    "z2 = int(input(\"Zahl2: \"))\n",
    "if z1 > z2:\n",
    "    print(\"Die Zahl z1 ist größer\")\n",
    "\n",
    "else:\n",
    "    print(\"Die Zahl z2 ist größer\")\n",
    "# Codeblöcke werden in Python mit einem Tabulator oder Leerzeichen (einheitlich!!!) eingerückt."
   ]
  },
  {
   "cell_type": "code",
   "execution_count": null,
   "id": "5e7eccc9",
   "metadata": {},
   "outputs": [],
   "source": [
    "if z1 > z2:\n",
    "    print(\"Die Zahl z1 ist größer\")\n",
    "    print(z1)\n",
    "else:\n",
    "    if z1 < z2:\n",
    "        print(z2)\n",
    "    else:\n",
    "        print(\"Die Zahlen {0:d} und {1:d} sind gleich groß.\".format(z1,z2))"
   ]
  },
  {
   "cell_type": "markdown",
   "id": "56310baf",
   "metadata": {},
   "source": [
    "Kurzschreibweise für `else if`: `elif`"
   ]
  },
  {
   "cell_type": "code",
   "execution_count": null,
   "id": "693f66fa",
   "metadata": {},
   "outputs": [],
   "source": [
    "if z1 > z2:\n",
    "    print(\"Die Zahl z1 ist größer\")\n",
    "    print(z1)\n",
    "elif z1 < z2:\n",
    "    print(z2)\n",
    "else:\n",
    "    print(\"Die Zahlen {0:d} und {1:d} sind gleich groß.\".format(z1,z2))"
   ]
  },
  {
   "cell_type": "markdown",
   "id": "6eadc5bb",
   "metadata": {},
   "source": [
    "## Schleifen"
   ]
  },
  {
   "cell_type": "markdown",
   "id": "76e48077",
   "metadata": {},
   "source": [
    "### WHILE"
   ]
  },
  {
   "cell_type": "code",
   "execution_count": null,
   "id": "b8fad9ba",
   "metadata": {},
   "outputs": [],
   "source": [
    "zaehler = 0\n",
    "while zaehler <= 13:\n",
    "    print(zaehler,end=\"*\")\n",
    "    zaehler += 1"
   ]
  },
  {
   "cell_type": "markdown",
   "id": "6261902a",
   "metadata": {},
   "source": [
    "### FOR"
   ]
  },
  {
   "cell_type": "code",
   "execution_count": null,
   "id": "e53da789",
   "metadata": {},
   "outputs": [],
   "source": [
    "for zahl in range(0,20,2):\n",
    "    print(zahl,end=\" \")"
   ]
  },
  {
   "cell_type": "code",
   "execution_count": null,
   "id": "e972d4bf",
   "metadata": {},
   "outputs": [],
   "source": [
    "l = [1, 2, 3, 4, 5]\n",
    "for zahl in l:\n",
    "    print(zahl**2)"
   ]
  },
  {
   "cell_type": "markdown",
   "id": "e7b589a5",
   "metadata": {},
   "source": [
    "Schlüsselwörter `continue` und `break`: analog zu Java und Co."
   ]
  },
  {
   "cell_type": "code",
   "execution_count": null,
   "id": "fc40c03c",
   "metadata": {},
   "outputs": [],
   "source": [
    "l = list(range(20)) #tuple()\n",
    "for zahl in l:\n",
    "    if zahl % 2 == 0:\n",
    "        #l[zahl] = \"gerade\"\n",
    "        print(\"Die Zahl {0:d} ist gerade.\".format(zahl))\n",
    "    else:\n",
    "        continue; # break\n"
   ]
  },
  {
   "cell_type": "code",
   "execution_count": null,
   "id": "250779c3",
   "metadata": {},
   "outputs": [],
   "source": []
  }
 ],
 "metadata": {
  "kernelspec": {
   "display_name": "Python 3",
   "language": "python",
   "name": "python3"
  },
  "language_info": {
   "codemirror_mode": {
    "name": "ipython",
    "version": 3
   },
   "file_extension": ".py",
   "mimetype": "text/x-python",
   "name": "python",
   "nbconvert_exporter": "python",
   "pygments_lexer": "ipython3",
   "version": "3.12.3"
  }
 },
 "nbformat": 4,
 "nbformat_minor": 5
}
